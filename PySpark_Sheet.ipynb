{
  "nbformat": 4,
  "nbformat_minor": 0,
  "metadata": {
    "colab": {
      "provenance": []
    },
    "kernelspec": {
      "name": "python3",
      "display_name": "Python 3"
    },
    "language_info": {
      "name": "python"
    }
  },
  "cells": [
    {
      "cell_type": "markdown",
      "source": [
        "# **Revise Pyspark Within 15 minutes .Part -1**\n",
        "\n",
        "# All Major keywords: of pyspark used :"
      ],
      "metadata": {
        "id": "J7t79EtZnsgu"
      }
    },
    {
      "cell_type": "markdown",
      "source": [
        "**Install Pyspark : ** pip install pyspark"
      ],
      "metadata": {
        "id": "VXUVXkDVY1mP"
      }
    },
    {
      "cell_type": "code",
      "source": [
        "!apt-get install openjdk-8-jdk-headless -qq > /dev/null\n",
        "!pip install pyspark"
      ],
      "metadata": {
        "colab": {
          "base_uri": "https://localhost:8080/"
        },
        "id": "RkvluCr2aGOF",
        "outputId": "c4a78d02-5731-4bea-a0d7-dc66a1ae90a7"
      },
      "execution_count": null,
      "outputs": [
        {
          "output_type": "stream",
          "name": "stdout",
          "text": [
            "Requirement already satisfied: pyspark in /usr/local/lib/python3.10/dist-packages (3.5.3)\n",
            "Requirement already satisfied: py4j==0.10.9.7 in /usr/local/lib/python3.10/dist-packages (from pyspark) (0.10.9.7)\n"
          ]
        }
      ]
    },
    {
      "cell_type": "markdown",
      "source": [
        "Pyspark Functions List :"
      ],
      "metadata": {
        "id": "mxswbGN1ZIQl"
      }
    },
    {
      "cell_type": "code",
      "execution_count": null,
      "metadata": {
        "id": "VbJhWL9Cnl5r"
      },
      "outputs": [],
      "source": [
        "#Initialization of pyspark\n",
        "import pyspark\n",
        "from pyspark.sql import SparkSession\n",
        "spark=SparkSession.builder.appName('Practise').getOrCreate()\n",
        "\n"
      ]
    },
    {
      "cell_type": "code",
      "source": [
        "#Access the inbuilt datasets of colab to perform the actions :\n",
        "\n",
        "!ls /content/sample_data\n"
      ],
      "metadata": {
        "colab": {
          "base_uri": "https://localhost:8080/"
        },
        "id": "1ikdIHSeaOAd",
        "outputId": "1151d737-76fe-4c72-e6bb-6669fa868028"
      },
      "execution_count": null,
      "outputs": [
        {
          "output_type": "stream",
          "name": "stdout",
          "text": [
            "anscombe.json\t\t     california_housing_train.csv  mnist_train_small.csv\n",
            "california_housing_test.csv  mnist_test.csv\t\t   README.md\n"
          ]
        }
      ]
    },
    {
      "cell_type": "markdown",
      "source": [
        "FIle path for the above datasets is : file_path = \"/content/sample_data/california_housing_train.csv\"\n"
      ],
      "metadata": {
        "id": "la7VYZspahBy"
      }
    },
    {
      "cell_type": "code",
      "source": [
        "# Loading Data\n",
        "\n",
        "df=spark.read.format(\"csv\").option(\"header\",\"true\").load(\"/content/sample_data/california_housing_train.csv\")"
      ],
      "metadata": {
        "id": "APzG6xVAZajn"
      },
      "execution_count": null,
      "outputs": []
    },
    {
      "cell_type": "code",
      "source": [
        "df.columns"
      ],
      "metadata": {
        "colab": {
          "base_uri": "https://localhost:8080/"
        },
        "id": "N8dCQE1Bbi89",
        "outputId": "c93d3395-1978-47bc-cf33-93b6b57c95ef"
      },
      "execution_count": null,
      "outputs": [
        {
          "output_type": "execute_result",
          "data": {
            "text/plain": [
              "['longitude',\n",
              " 'latitude',\n",
              " 'housing_median_age',\n",
              " 'total_rooms',\n",
              " 'total_bedrooms',\n",
              " 'population',\n",
              " 'households',\n",
              " 'median_income',\n",
              " 'median_house_value']"
            ]
          },
          "metadata": {},
          "execution_count": 10
        }
      ]
    },
    {
      "cell_type": "markdown",
      "source": [
        "Renaming the columns :\n",
        "\n",
        "To rename columns in a PySpark DataFrame, you have several options depending on whether you want to rename all columns or just a few specific ones.\n",
        "\n",
        "\n",
        "---\n",
        "\n",
        "\n",
        "\n",
        "1. Renaming a Single Column   **.withColumnRenamed()**\n",
        "2. Renaming Multiple Columns Using Multiple  **.withColumnRenamed()**\n",
        "3. To rename all columns, create a list of new names and use the    **.toDF()**\n",
        "4. Renaming All Columns by Mapping Old Column Names to New Names **.selectExpr()**\n",
        "5. Renaming Columns by Applying a Function to Modify Names   **.select()**\n",
        "\n"
      ],
      "metadata": {
        "id": "HMRhI1OHbP08"
      }
    },
    {
      "cell_type": "code",
      "source": [
        "df.withColumnRenamed(\"longitude\",\"long\").withColumnRenamed(\"latitude\",\"lat\").show(5)"
      ],
      "metadata": {
        "colab": {
          "base_uri": "https://localhost:8080/"
        },
        "id": "KjyyhQhxZagC",
        "outputId": "443b68fd-6319-4f78-d718-b33513b26b9a"
      },
      "execution_count": null,
      "outputs": [
        {
          "output_type": "stream",
          "name": "stdout",
          "text": [
            "+-----------+---------+------------------+-----------+--------------+-----------+----------+-------------+------------------+\n",
            "|       long|      lat|housing_median_age|total_rooms|total_bedrooms| population|households|median_income|median_house_value|\n",
            "+-----------+---------+------------------+-----------+--------------+-----------+----------+-------------+------------------+\n",
            "|-114.310000|34.190000|         15.000000|5612.000000|   1283.000000|1015.000000|472.000000|     1.493600|      66900.000000|\n",
            "|-114.470000|34.400000|         19.000000|7650.000000|   1901.000000|1129.000000|463.000000|     1.820000|      80100.000000|\n",
            "|-114.560000|33.690000|         17.000000| 720.000000|    174.000000| 333.000000|117.000000|     1.650900|      85700.000000|\n",
            "|-114.570000|33.640000|         14.000000|1501.000000|    337.000000| 515.000000|226.000000|     3.191700|      73400.000000|\n",
            "|-114.570000|33.570000|         20.000000|1454.000000|    326.000000| 624.000000|262.000000|     1.925000|      65500.000000|\n",
            "+-----------+---------+------------------+-----------+--------------+-----------+----------+-------------+------------------+\n",
            "only showing top 5 rows\n",
            "\n"
          ]
        }
      ]
    },
    {
      "cell_type": "markdown",
      "source": [
        "#Add and Drop Column :\n",
        "\n",
        "\n",
        "1.   Add : df.withcolumn(\"new_col\",lit(value))\n",
        "\n",
        "*    Adding 5 to an existing column's value\n",
        "df = df.withColumn(\"new_column\", col(\"existing_column\") + lit(5))\n",
        "*   df = df.withColumn(\"category\", when(col(\"score\") > lit(50), \"Pass\").otherwise(\"Fail\"))\n",
        "\n",
        "\n",
        "2.   Drop : df.drop(\"col_name\")\n",
        "\n"
      ],
      "metadata": {
        "id": "_MZKwp8aecke"
      }
    },
    {
      "cell_type": "code",
      "source": [
        "from pyspark.sql.functions import lit\n",
        "\n",
        "df.withColumn(\"new_col\",lit(100)).show(5)"
      ],
      "metadata": {
        "colab": {
          "base_uri": "https://localhost:8080/"
        },
        "id": "YiuFjvv5Zaeg",
        "outputId": "9c40e389-756b-4723-e1ab-10d3a024d065"
      },
      "execution_count": null,
      "outputs": [
        {
          "output_type": "stream",
          "name": "stdout",
          "text": [
            "+-----------+---------+------------------+-----------+--------------+-----------+----------+-------------+------------------+-------+\n",
            "|  longitude| latitude|housing_median_age|total_rooms|total_bedrooms| population|households|median_income|median_house_value|new_col|\n",
            "+-----------+---------+------------------+-----------+--------------+-----------+----------+-------------+------------------+-------+\n",
            "|-114.310000|34.190000|         15.000000|5612.000000|   1283.000000|1015.000000|472.000000|     1.493600|      66900.000000|    100|\n",
            "|-114.470000|34.400000|         19.000000|7650.000000|   1901.000000|1129.000000|463.000000|     1.820000|      80100.000000|    100|\n",
            "|-114.560000|33.690000|         17.000000| 720.000000|    174.000000| 333.000000|117.000000|     1.650900|      85700.000000|    100|\n",
            "|-114.570000|33.640000|         14.000000|1501.000000|    337.000000| 515.000000|226.000000|     3.191700|      73400.000000|    100|\n",
            "|-114.570000|33.570000|         20.000000|1454.000000|    326.000000| 624.000000|262.000000|     1.925000|      65500.000000|    100|\n",
            "+-----------+---------+------------------+-----------+--------------+-----------+----------+-------------+------------------+-------+\n",
            "only showing top 5 rows\n",
            "\n"
          ]
        }
      ]
    },
    {
      "cell_type": "code",
      "source": [
        "df.drop(\"new_col\").show(5)"
      ],
      "metadata": {
        "colab": {
          "base_uri": "https://localhost:8080/"
        },
        "id": "O3O2r8U3Zacl",
        "outputId": "952fe132-d973-4793-a5e7-e32de84ad13b"
      },
      "execution_count": null,
      "outputs": [
        {
          "output_type": "stream",
          "name": "stdout",
          "text": [
            "+-----------+---------+------------------+-----------+--------------+-----------+----------+-------------+------------------+\n",
            "|  longitude| latitude|housing_median_age|total_rooms|total_bedrooms| population|households|median_income|median_house_value|\n",
            "+-----------+---------+------------------+-----------+--------------+-----------+----------+-------------+------------------+\n",
            "|-114.310000|34.190000|         15.000000|5612.000000|   1283.000000|1015.000000|472.000000|     1.493600|      66900.000000|\n",
            "|-114.470000|34.400000|         19.000000|7650.000000|   1901.000000|1129.000000|463.000000|     1.820000|      80100.000000|\n",
            "|-114.560000|33.690000|         17.000000| 720.000000|    174.000000| 333.000000|117.000000|     1.650900|      85700.000000|\n",
            "|-114.570000|33.640000|         14.000000|1501.000000|    337.000000| 515.000000|226.000000|     3.191700|      73400.000000|\n",
            "|-114.570000|33.570000|         20.000000|1454.000000|    326.000000| 624.000000|262.000000|     1.925000|      65500.000000|\n",
            "+-----------+---------+------------------+-----------+--------------+-----------+----------+-------------+------------------+\n",
            "only showing top 5 rows\n",
            "\n"
          ]
        }
      ]
    },
    {
      "cell_type": "markdown",
      "source": [
        "In PySpark, you can select specific columns and filter rows based on conditions using .select() and .filter() (or .where())\n",
        "\n",
        "1.   df.select()\n",
        "2.   df.filter() or df.where()\n",
        "\n"
      ],
      "metadata": {
        "id": "NSFFp_2QhJ3n"
      }
    },
    {
      "cell_type": "code",
      "source": [
        "\n",
        "df_selected= df.select(\"longitude\",\"latitude\")\n",
        "df_selected.show(5)"
      ],
      "metadata": {
        "colab": {
          "base_uri": "https://localhost:8080/"
        },
        "id": "yqHtJFPSZaas",
        "outputId": "c6308c85-5ee1-496f-9e39-e5258a36e25a"
      },
      "execution_count": null,
      "outputs": [
        {
          "output_type": "stream",
          "name": "stdout",
          "text": [
            "+-----------+---------+\n",
            "|  longitude| latitude|\n",
            "+-----------+---------+\n",
            "|-114.310000|34.190000|\n",
            "|-114.470000|34.400000|\n",
            "|-114.560000|33.690000|\n",
            "|-114.570000|33.640000|\n",
            "|-114.570000|33.570000|\n",
            "+-----------+---------+\n",
            "only showing top 5 rows\n",
            "\n"
          ]
        }
      ]
    },
    {
      "cell_type": "code",
      "source": [
        "df_filtered = df.filter(df[\"total_rooms\"] > 100)\n",
        "df_filtered.show(5)"
      ],
      "metadata": {
        "colab": {
          "base_uri": "https://localhost:8080/"
        },
        "id": "DCd4AW2MZaML",
        "outputId": "0ed89ebb-3e43-4635-d806-61f0d4869600"
      },
      "execution_count": null,
      "outputs": [
        {
          "output_type": "stream",
          "name": "stdout",
          "text": [
            "+-----------+---------+------------------+-----------+--------------+-----------+----------+-------------+------------------+\n",
            "|  longitude| latitude|housing_median_age|total_rooms|total_bedrooms| population|households|median_income|median_house_value|\n",
            "+-----------+---------+------------------+-----------+--------------+-----------+----------+-------------+------------------+\n",
            "|-114.310000|34.190000|         15.000000|5612.000000|   1283.000000|1015.000000|472.000000|     1.493600|      66900.000000|\n",
            "|-114.470000|34.400000|         19.000000|7650.000000|   1901.000000|1129.000000|463.000000|     1.820000|      80100.000000|\n",
            "|-114.560000|33.690000|         17.000000| 720.000000|    174.000000| 333.000000|117.000000|     1.650900|      85700.000000|\n",
            "|-114.570000|33.640000|         14.000000|1501.000000|    337.000000| 515.000000|226.000000|     3.191700|      73400.000000|\n",
            "|-114.570000|33.570000|         20.000000|1454.000000|    326.000000| 624.000000|262.000000|     1.925000|      65500.000000|\n",
            "+-----------+---------+------------------+-----------+--------------+-----------+----------+-------------+------------------+\n",
            "only showing top 5 rows\n",
            "\n"
          ]
        }
      ]
    },
    {
      "cell_type": "code",
      "source": [
        "df_filtered = df.where((df[\"total_rooms\"] > 100) & (df[\"population\"] > 1000))\n",
        "df_filtered.show(5)"
      ],
      "metadata": {
        "colab": {
          "base_uri": "https://localhost:8080/"
        },
        "id": "RqqDsesgZaGh",
        "outputId": "7d456ed4-f261-4447-ceed-680ec665585e"
      },
      "execution_count": null,
      "outputs": [
        {
          "output_type": "stream",
          "name": "stdout",
          "text": [
            "+-----------+---------+------------------+-----------+--------------+-----------+-----------+-------------+------------------+\n",
            "|  longitude| latitude|housing_median_age|total_rooms|total_bedrooms| population| households|median_income|median_house_value|\n",
            "+-----------+---------+------------------+-----------+--------------+-----------+-----------+-------------+------------------+\n",
            "|-114.310000|34.190000|         15.000000|5612.000000|   1283.000000|1015.000000| 472.000000|     1.493600|      66900.000000|\n",
            "|-114.470000|34.400000|         19.000000|7650.000000|   1901.000000|1129.000000| 463.000000|     1.820000|      80100.000000|\n",
            "|-114.580000|33.610000|         25.000000|2907.000000|    680.000000|1841.000000| 633.000000|     2.676800|      82400.000000|\n",
            "|-114.590000|33.610000|         34.000000|4789.000000|   1175.000000|3134.000000|1056.000000|     2.178200|      58400.000000|\n",
            "|-114.600000|33.620000|         16.000000|3741.000000|    801.000000|2434.000000| 824.000000|     2.679700|      86500.000000|\n",
            "+-----------+---------+------------------+-----------+--------------+-----------+-----------+-------------+------------------+\n",
            "only showing top 5 rows\n",
            "\n"
          ]
        }
      ]
    },
    {
      "cell_type": "markdown",
      "source": [
        "Sort Rows In PySpark, you can sort rows and remove duplicate rows using the .orderBy() and .dropDuplicates() (or .distinct()) :\n",
        "\n",
        "1.   df.orderBy()\n",
        "2.   df.dropDuplicates()\n",
        "3.   df.distinct()\n",
        "\n"
      ],
      "metadata": {
        "id": "RZV5BpZ7ifZB"
      }
    },
    {
      "cell_type": "code",
      "source": [
        "df.orderBy(\"total_rooms\").show(5)"
      ],
      "metadata": {
        "colab": {
          "base_uri": "https://localhost:8080/"
        },
        "id": "tHI6qrK9ZaET",
        "outputId": "21324dcf-45e9-4d36-e6c2-b6ff8bca5867"
      },
      "execution_count": null,
      "outputs": [
        {
          "output_type": "stream",
          "name": "stdout",
          "text": [
            "+-----------+---------+------------------+-----------+--------------+-----------+----------+-------------+------------------+\n",
            "|  longitude| latitude|housing_median_age|total_rooms|total_bedrooms| population|households|median_income|median_house_value|\n",
            "+-----------+---------+------------------+-----------+--------------+-----------+----------+-------------+------------------+\n",
            "|-121.490000|38.580000|         52.000000|1000.000000|    324.000000| 456.000000|250.000000|     1.437500|     168800.000000|\n",
            "|-118.200000|33.900000|         26.000000|1000.000000|    275.000000|1178.000000|263.000000|     2.120000|     105000.000000|\n",
            "|-117.390000|34.100000|         19.000000|1000.000000|    211.000000| 572.000000|230.000000|     2.402800|     112500.000000|\n",
            "|-118.150000|34.110000|         52.000000|1000.000000|    192.000000| 363.000000|158.000000|     4.298100|     352800.000000|\n",
            "|-121.110000|39.090000|         16.000000|1000.000000|    197.000000| 508.000000|190.000000|     2.306200|     138800.000000|\n",
            "+-----------+---------+------------------+-----------+--------------+-----------+----------+-------------+------------------+\n",
            "only showing top 5 rows\n",
            "\n"
          ]
        }
      ]
    },
    {
      "cell_type": "code",
      "source": [
        "df1=df.dropDuplicates([\"total_rooms\"])\n",
        "df1.show(5)\n",
        "print(\"total rows : \"+ str(df1.count()))"
      ],
      "metadata": {
        "colab": {
          "base_uri": "https://localhost:8080/"
        },
        "id": "IkC9J0HDZaA5",
        "outputId": "c6e95da5-3783-4d1b-e2c9-bf8893856d27"
      },
      "execution_count": null,
      "outputs": [
        {
          "output_type": "stream",
          "name": "stdout",
          "text": [
            "+-----------+---------+------------------+------------+--------------+-----------+-----------+-------------+------------------+\n",
            "|  longitude| latitude|housing_median_age| total_rooms|total_bedrooms| population| households|median_income|median_house_value|\n",
            "+-----------+---------+------------------+------------+--------------+-----------+-----------+-------------+------------------+\n",
            "|-117.390000|34.100000|         19.000000| 1000.000000|    211.000000| 572.000000| 230.000000|     2.402800|     112500.000000|\n",
            "|-117.210000|33.930000|          4.000000|10002.000000|   1468.000000|5439.000000|1397.000000|     5.022300|     152600.000000|\n",
            "|-117.680000|33.570000|          2.000000|10008.000000|   1453.000000|3550.000000|1139.000000|    10.112200|     500001.000000|\n",
            "|-120.800000|38.510000|         23.000000| 1001.000000|    195.000000| 369.000000| 157.000000|     3.125000|      96400.000000|\n",
            "|-118.940000|34.240000|          5.000000|10018.000000|   1233.000000|4253.000000|1120.000000|     8.906300|     500001.000000|\n",
            "+-----------+---------+------------------+------------+--------------+-----------+-----------+-------------+------------------+\n",
            "only showing top 5 rows\n",
            "\n",
            "total rows : 5533\n"
          ]
        }
      ]
    },
    {
      "cell_type": "markdown",
      "source": [
        "SOme Basic Functionalities :\n",
        "\n",
        "\n",
        "1.\n",
        "2.   List item\n",
        "\n"
      ],
      "metadata": {
        "id": "LR1fN2JIlDwq"
      }
    },
    {
      "cell_type": "code",
      "source": [
        "df = df.withColumn(\"rooms\", df[\"total_rooms\"].cast(\"int\"))\n",
        "df.show(5)"
      ],
      "metadata": {
        "colab": {
          "base_uri": "https://localhost:8080/"
        },
        "id": "-N_2C0W3l7ni",
        "outputId": "0a1bbe51-3434-44ad-aa8d-e09199c270db"
      },
      "execution_count": null,
      "outputs": [
        {
          "output_type": "stream",
          "name": "stdout",
          "text": [
            "+-----------+---------+------------------+-----------+--------------+-----------+----------+-------------+------------------+-----+\n",
            "|  longitude| latitude|housing_median_age|total_rooms|total_bedrooms| population|households|median_income|median_house_value|rooms|\n",
            "+-----------+---------+------------------+-----------+--------------+-----------+----------+-------------+------------------+-----+\n",
            "|-114.310000|34.190000|         15.000000|5612.000000|   1283.000000|1015.000000|472.000000|     1.493600|      66900.000000| 5612|\n",
            "|-114.470000|34.400000|         19.000000|7650.000000|   1901.000000|1129.000000|463.000000|     1.820000|      80100.000000| 7650|\n",
            "|-114.560000|33.690000|         17.000000| 720.000000|    174.000000| 333.000000|117.000000|     1.650900|      85700.000000|  720|\n",
            "|-114.570000|33.640000|         14.000000|1501.000000|    337.000000| 515.000000|226.000000|     3.191700|      73400.000000| 1501|\n",
            "|-114.570000|33.570000|         20.000000|1454.000000|    326.000000| 624.000000|262.000000|     1.925000|      65500.000000| 1454|\n",
            "+-----------+---------+------------------+-----------+--------------+-----------+----------+-------------+------------------+-----+\n",
            "only showing top 5 rows\n",
            "\n"
          ]
        }
      ]
    },
    {
      "cell_type": "code",
      "source": [
        "print(\"total rows : \"+ str(df1.count()))\n",
        "print(\"total distinct rows : \"+ str(df.select(\"rooms\").distinct().count()))"
      ],
      "metadata": {
        "colab": {
          "base_uri": "https://localhost:8080/"
        },
        "id": "SRR_lB27ZZ-w",
        "outputId": "7f4f98fe-c6b4-4fa8-cd36-e06194e61833"
      },
      "execution_count": null,
      "outputs": [
        {
          "output_type": "stream",
          "name": "stdout",
          "text": [
            "total rows : 5533\n",
            "total distinct rows : 5533\n"
          ]
        }
      ]
    },
    {
      "cell_type": "markdown",
      "source": [
        " check if a column contains a specific substring, you can use the .contains()"
      ],
      "metadata": {
        "id": "5R9vEbK0nOCA"
      }
    },
    {
      "cell_type": "code",
      "source": [
        "#it will return all room string which contains 200 substring\n",
        "\n",
        "from pyspark.sql.functions import col\n",
        "filter_df =df.filter(col(\"rooms\").contains(\"200\"))\n",
        "filter_df.show(5)"
      ],
      "metadata": {
        "colab": {
          "base_uri": "https://localhost:8080/"
        },
        "id": "UsZqTkawZZ8b",
        "outputId": "3f1d0a88-9487-4fff-d4dc-bea7a71cb5df"
      },
      "execution_count": null,
      "outputs": [
        {
          "output_type": "stream",
          "name": "stdout",
          "text": [
            "+-----------+---------+------------------+-----------+--------------+-----------+----------+-------------+------------------+-----+\n",
            "|  longitude| latitude|housing_median_age|total_rooms|total_bedrooms| population|households|median_income|median_house_value|rooms|\n",
            "+-----------+---------+------------------+-----------+--------------+-----------+----------+-------------+------------------+-----+\n",
            "|-117.070000|32.670000|         35.000000|3200.000000|    725.000000|1723.000000|610.000000|     1.897700|      95600.000000| 3200|\n",
            "|-117.090000|32.910000|         16.000000|2005.000000|    266.000000| 827.000000|270.000000|     7.054600|     282200.000000| 2005|\n",
            "|-117.100000|32.700000|         42.000000|2002.000000|    488.000000|1505.000000|464.000000|     1.505700|      86300.000000| 2002|\n",
            "|-117.120000|32.690000|         46.000000| 200.000000|     77.000000| 180.000000| 65.000000|     1.065800|      93800.000000|  200|\n",
            "|-117.120000|32.580000|         34.000000|2003.000000|    466.000000|1226.000000|443.000000|     3.061300|     136700.000000| 2003|\n",
            "+-----------+---------+------------------+-----------+--------------+-----------+----------+-------------+------------------+-----+\n",
            "only showing top 5 rows\n",
            "\n"
          ]
        }
      ]
    },
    {
      "cell_type": "markdown",
      "source": [
        "To obtain summary statistics of a DataFrame, you can use the .describe()"
      ],
      "metadata": {
        "id": "L0zXR97BnsP0"
      }
    },
    {
      "cell_type": "code",
      "source": [
        "filter_df.describe().show()"
      ],
      "metadata": {
        "colab": {
          "base_uri": "https://localhost:8080/"
        },
        "id": "B--ySxiUZZ5x",
        "outputId": "e32762ce-8c13-4d2a-f498-6029cc9400a9"
      },
      "execution_count": null,
      "outputs": [
        {
          "output_type": "stream",
          "name": "stdout",
          "text": [
            "+-------+------------------+------------------+------------------+------------------+------------------+-----------------+------------------+------------------+------------------+------------------+\n",
            "|summary|         longitude|          latitude|housing_median_age|       total_rooms|    total_bedrooms|       population|        households|     median_income|median_house_value|             rooms|\n",
            "+-------+------------------+------------------+------------------+------------------+------------------+-----------------+------------------+------------------+------------------+------------------+\n",
            "|  count|                61|                61|                61|                61|                61|               61|                61|                61|                61|                61|\n",
            "|   mean|-119.4227868852459| 35.37098360655739|31.950819672131146|2324.2950819672133| 469.9016393442623|1332.688524590164|450.04918032786884|3.8692803278688523|221314.81967213115|2324.2950819672133|\n",
            "| stddev| 1.895816562106807|2.1099989770282144|12.978734182639174|1210.4123174117472|206.26339996212226|629.6836385832598|197.13256337039704|1.7526203600912995|115639.55826958007|1210.4123174117472|\n",
            "|    min|       -117.070000|         32.580000|         11.000000|        200.000000|       1119.000000|      1033.000000|       1102.000000|          1.065800|     102300.000000|               200|\n",
            "|    max|       -122.730000|         41.760000|          9.000000|       7200.000000|        907.000000|       996.000000|        896.000000|          7.651800|      95600.000000|              7200|\n",
            "+-------+------------------+------------------+------------------+------------------+------------------+-----------------+------------------+------------------+------------------+------------------+\n",
            "\n"
          ]
        }
      ]
    },
    {
      "cell_type": "markdown",
      "source": [
        "To remove leading and trailing whitespace from string columns, use the .trim()"
      ],
      "metadata": {
        "id": "Eb6KwCldntHe"
      }
    },
    {
      "cell_type": "code",
      "source": [
        "from pyspark.sql.functions import trim\n",
        "\n",
        "# Trim whitespace from 'populations'\n",
        "df_trimmed = df.withColumn(\"population\", trim(col(\"population\")))\n",
        "df_trimmed.show(5)"
      ],
      "metadata": {
        "colab": {
          "base_uri": "https://localhost:8080/"
        },
        "id": "oZ3-1v4GZZ1k",
        "outputId": "c4ac8f94-032a-4f86-e9c4-f814de5b089a"
      },
      "execution_count": null,
      "outputs": [
        {
          "output_type": "stream",
          "name": "stdout",
          "text": [
            "+-----------+---------+------------------+-----------+--------------+-----------+----------+-------------+------------------+-----+\n",
            "|  longitude| latitude|housing_median_age|total_rooms|total_bedrooms| population|households|median_income|median_house_value|rooms|\n",
            "+-----------+---------+------------------+-----------+--------------+-----------+----------+-------------+------------------+-----+\n",
            "|-114.310000|34.190000|         15.000000|5612.000000|   1283.000000|1015.000000|472.000000|     1.493600|      66900.000000| 5612|\n",
            "|-114.470000|34.400000|         19.000000|7650.000000|   1901.000000|1129.000000|463.000000|     1.820000|      80100.000000| 7650|\n",
            "|-114.560000|33.690000|         17.000000| 720.000000|    174.000000| 333.000000|117.000000|     1.650900|      85700.000000|  720|\n",
            "|-114.570000|33.640000|         14.000000|1501.000000|    337.000000| 515.000000|226.000000|     3.191700|      73400.000000| 1501|\n",
            "|-114.570000|33.570000|         20.000000|1454.000000|    326.000000| 624.000000|262.000000|     1.925000|      65500.000000| 1454|\n",
            "+-----------+---------+------------------+-----------+--------------+-----------+----------+-------------+------------------+-----+\n",
            "only showing top 5 rows\n",
            "\n"
          ]
        }
      ]
    },
    {
      "cell_type": "markdown",
      "source": [
        "To round numeric values in a column, use .round()"
      ],
      "metadata": {
        "id": "3cjZSVq_pSD0"
      }
    },
    {
      "cell_type": "code",
      "source": [
        "from pyspark.sql.functions import round\n",
        "df1=df_trimmed.withColumn(\"round_median_income\",round(col(\"median_income\"),3).cast(\"float\"))\n",
        "df1.show(5)\n"
      ],
      "metadata": {
        "colab": {
          "base_uri": "https://localhost:8080/"
        },
        "id": "O4_q_QWbZZyi",
        "outputId": "50a06fec-8493-49b0-c4d4-16381689b443"
      },
      "execution_count": null,
      "outputs": [
        {
          "output_type": "stream",
          "name": "stdout",
          "text": [
            "+-----------+---------+------------------+-----------+--------------+-----------+----------+-------------+------------------+-----+-------------------+\n",
            "|  longitude| latitude|housing_median_age|total_rooms|total_bedrooms| population|households|median_income|median_house_value|rooms|round_median_income|\n",
            "+-----------+---------+------------------+-----------+--------------+-----------+----------+-------------+------------------+-----+-------------------+\n",
            "|-114.310000|34.190000|         15.000000|5612.000000|   1283.000000|1015.000000|472.000000|     1.493600|      66900.000000| 5612|              1.494|\n",
            "|-114.470000|34.400000|         19.000000|7650.000000|   1901.000000|1129.000000|463.000000|     1.820000|      80100.000000| 7650|               1.82|\n",
            "|-114.560000|33.690000|         17.000000| 720.000000|    174.000000| 333.000000|117.000000|     1.650900|      85700.000000|  720|              1.651|\n",
            "|-114.570000|33.640000|         14.000000|1501.000000|    337.000000| 515.000000|226.000000|     3.191700|      73400.000000| 1501|              3.192|\n",
            "|-114.570000|33.570000|         20.000000|1454.000000|    326.000000| 624.000000|262.000000|     1.925000|      65500.000000| 1454|              1.925|\n",
            "+-----------+---------+------------------+-----------+--------------+-----------+----------+-------------+------------------+-----+-------------------+\n",
            "only showing top 5 rows\n",
            "\n"
          ]
        }
      ]
    },
    {
      "cell_type": "markdown",
      "source": [
        "\n",
        "To split a string column into multiple columns, use the split()\n",
        "\n",
        "\n"
      ],
      "metadata": {
        "id": "qZ3y_G1GpTSp"
      }
    },
    {
      "cell_type": "code",
      "source": [
        "from pyspark.sql.functions import split\n",
        "df_split = df.withColumn(\"split_col\", split(col(\"latitude\"),\",\"))\n",
        "df_split.show(5)"
      ],
      "metadata": {
        "colab": {
          "base_uri": "https://localhost:8080/"
        },
        "id": "EkotzeOEZZwd",
        "outputId": "c828d290-74b0-4751-afe2-3e2a8a0e0ea5"
      },
      "execution_count": null,
      "outputs": [
        {
          "output_type": "stream",
          "name": "stdout",
          "text": [
            "+-----------+---------+------------------+-----------+--------------+-----------+----------+-------------+------------------+-----+-----------+\n",
            "|  longitude| latitude|housing_median_age|total_rooms|total_bedrooms| population|households|median_income|median_house_value|rooms|  split_col|\n",
            "+-----------+---------+------------------+-----------+--------------+-----------+----------+-------------+------------------+-----+-----------+\n",
            "|-114.310000|34.190000|         15.000000|5612.000000|   1283.000000|1015.000000|472.000000|     1.493600|      66900.000000| 5612|[34.190000]|\n",
            "|-114.470000|34.400000|         19.000000|7650.000000|   1901.000000|1129.000000|463.000000|     1.820000|      80100.000000| 7650|[34.400000]|\n",
            "|-114.560000|33.690000|         17.000000| 720.000000|    174.000000| 333.000000|117.000000|     1.650900|      85700.000000|  720|[33.690000]|\n",
            "|-114.570000|33.640000|         14.000000|1501.000000|    337.000000| 515.000000|226.000000|     3.191700|      73400.000000| 1501|[33.640000]|\n",
            "|-114.570000|33.570000|         20.000000|1454.000000|    326.000000| 624.000000|262.000000|     1.925000|      65500.000000| 1454|[33.570000]|\n",
            "+-----------+---------+------------------+-----------+--------------+-----------+----------+-------------+------------------+-----+-----------+\n",
            "only showing top 5 rows\n",
            "\n"
          ]
        }
      ]
    },
    {
      "cell_type": "code",
      "source": [
        "from pyspark.sql.functions import col, when, lit\n",
        "df_case = df.withColumn(\"median_income_class\", when(col(\"median_income\") > 2.5, \"High\").otherwise(\"Low\"))\n",
        "df_case.show(5)"
      ],
      "metadata": {
        "colab": {
          "base_uri": "https://localhost:8080/"
        },
        "id": "VP8TC3J3tyE9",
        "outputId": "cd6bc61e-7b70-4d19-bc71-528cd57d02ae"
      },
      "execution_count": null,
      "outputs": [
        {
          "output_type": "stream",
          "name": "stdout",
          "text": [
            "+-----------+---------+------------------+-----------+--------------+-----------+----------+-------------+------------------+-----+-------------------+\n",
            "|  longitude| latitude|housing_median_age|total_rooms|total_bedrooms| population|households|median_income|median_house_value|rooms|median_income_class|\n",
            "+-----------+---------+------------------+-----------+--------------+-----------+----------+-------------+------------------+-----+-------------------+\n",
            "|-114.310000|34.190000|         15.000000|5612.000000|   1283.000000|1015.000000|472.000000|     1.493600|      66900.000000| 5612|                Low|\n",
            "|-114.470000|34.400000|         19.000000|7650.000000|   1901.000000|1129.000000|463.000000|     1.820000|      80100.000000| 7650|                Low|\n",
            "|-114.560000|33.690000|         17.000000| 720.000000|    174.000000| 333.000000|117.000000|     1.650900|      85700.000000|  720|                Low|\n",
            "|-114.570000|33.640000|         14.000000|1501.000000|    337.000000| 515.000000|226.000000|     3.191700|      73400.000000| 1501|               High|\n",
            "|-114.570000|33.570000|         20.000000|1454.000000|    326.000000| 624.000000|262.000000|     1.925000|      65500.000000| 1454|                Low|\n",
            "+-----------+---------+------------------+-----------+--------------+-----------+----------+-------------+------------------+-----+-------------------+\n",
            "only showing top 5 rows\n",
            "\n"
          ]
        }
      ]
    },
    {
      "cell_type": "markdown",
      "source": [
        "To convert the case of strings in a column, you can use the upper() and lower()\n"
      ],
      "metadata": {
        "id": "YGbQvrHOr6N9"
      }
    },
    {
      "cell_type": "code",
      "source": [
        "from pyspark.sql.functions import upper, lower\n",
        "\n",
        "# Convert to uppercase\n",
        "df_upper = df_case.withColumn(\"median_income_class_U\", upper(col(\"median_income_class\")))\n",
        "df_upper.show(5)\n",
        "# Convert to lowercase\n",
        "df_lower = df_case.withColumn(\"median_income_class_L\", lower(col(\"median_income_class\")))\n",
        "df_lower.show(5)"
      ],
      "metadata": {
        "colab": {
          "base_uri": "https://localhost:8080/"
        },
        "id": "VB9E3qydr7k_",
        "outputId": "ad361fad-75e9-4639-8471-94d3bbb20772"
      },
      "execution_count": null,
      "outputs": [
        {
          "output_type": "stream",
          "name": "stdout",
          "text": [
            "+-----------+---------+------------------+-----------+--------------+-----------+----------+-------------+------------------+-----+-------------------+---------------------+\n",
            "|  longitude| latitude|housing_median_age|total_rooms|total_bedrooms| population|households|median_income|median_house_value|rooms|median_income_class|median_income_class_U|\n",
            "+-----------+---------+------------------+-----------+--------------+-----------+----------+-------------+------------------+-----+-------------------+---------------------+\n",
            "|-114.310000|34.190000|         15.000000|5612.000000|   1283.000000|1015.000000|472.000000|     1.493600|      66900.000000| 5612|                Low|                  LOW|\n",
            "|-114.470000|34.400000|         19.000000|7650.000000|   1901.000000|1129.000000|463.000000|     1.820000|      80100.000000| 7650|                Low|                  LOW|\n",
            "|-114.560000|33.690000|         17.000000| 720.000000|    174.000000| 333.000000|117.000000|     1.650900|      85700.000000|  720|                Low|                  LOW|\n",
            "|-114.570000|33.640000|         14.000000|1501.000000|    337.000000| 515.000000|226.000000|     3.191700|      73400.000000| 1501|               High|                 HIGH|\n",
            "|-114.570000|33.570000|         20.000000|1454.000000|    326.000000| 624.000000|262.000000|     1.925000|      65500.000000| 1454|                Low|                  LOW|\n",
            "+-----------+---------+------------------+-----------+--------------+-----------+----------+-------------+------------------+-----+-------------------+---------------------+\n",
            "only showing top 5 rows\n",
            "\n",
            "+-----------+---------+------------------+-----------+--------------+-----------+----------+-------------+------------------+-----+-------------------+---------------------+\n",
            "|  longitude| latitude|housing_median_age|total_rooms|total_bedrooms| population|households|median_income|median_house_value|rooms|median_income_class|median_income_class_L|\n",
            "+-----------+---------+------------------+-----------+--------------+-----------+----------+-------------+------------------+-----+-------------------+---------------------+\n",
            "|-114.310000|34.190000|         15.000000|5612.000000|   1283.000000|1015.000000|472.000000|     1.493600|      66900.000000| 5612|                Low|                  low|\n",
            "|-114.470000|34.400000|         19.000000|7650.000000|   1901.000000|1129.000000|463.000000|     1.820000|      80100.000000| 7650|                Low|                  low|\n",
            "|-114.560000|33.690000|         17.000000| 720.000000|    174.000000| 333.000000|117.000000|     1.650900|      85700.000000|  720|                Low|                  low|\n",
            "|-114.570000|33.640000|         14.000000|1501.000000|    337.000000| 515.000000|226.000000|     3.191700|      73400.000000| 1501|               High|                 high|\n",
            "|-114.570000|33.570000|         20.000000|1454.000000|    326.000000| 624.000000|262.000000|     1.925000|      65500.000000| 1454|                Low|                  low|\n",
            "+-----------+---------+------------------+-----------+--------------+-----------+----------+-------------+------------------+-----+-------------------+---------------------+\n",
            "only showing top 5 rows\n",
            "\n"
          ]
        }
      ]
    },
    {
      "cell_type": "code",
      "source": [],
      "metadata": {
        "id": "qf9-uX0RuqJk"
      },
      "execution_count": null,
      "outputs": []
    }
  ]
}